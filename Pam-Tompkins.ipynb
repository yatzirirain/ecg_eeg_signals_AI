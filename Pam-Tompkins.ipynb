{
 "cells": [
  {
   "cell_type": "code",
   "execution_count": null,
   "id": "03e271f5",
   "metadata": {},
   "outputs": [],
   "source": [
    "import wfdb\n",
    "import numpy as np\n",
    "import scipy.signal as sig\n",
    "import matplotlib.pyplot as plt"
   ]
  },
  {
   "cell_type": "markdown",
   "id": "4b3f37e1",
   "metadata": {},
   "source": [
    "###  Cargar el registro desde PhysioNet "
   ]
  },
  {
   "cell_type": "code",
   "execution_count": null,
   "id": "9abb1c90",
   "metadata": {},
   "outputs": [],
   "source": [
    "# 1) Cargar el registro desde PhysioNet \n",
    "db_dir      = \"i-care/2.0/training/0427\" \n",
    "record_name = \"0427_001_004_ECG\"    \n",
    "rec         = wfdb.rdrecord(record_name, pn_dir=db_dir)\n",
    "\n",
    "fs   = rec.fs                  # frecuencia de muestreo \n",
    "ecg  = rec.p_signal[:, 0]      # primer canal\n",
    "t    = np.arange(len(ecg)) / fs\n",
    "\n",
    "print(f\"Frecuencia de muestreo: {fs} Hz\")\n",
    "print(f\"Nº de muestras totales: {len(ecg)}\")\n",
    "print(f\"Canales disponibles   : {rec.sig_name}\")"
   ]
  },
  {
   "cell_type": "markdown",
   "id": "ef572d46",
   "metadata": {},
   "source": [
    "### Se selecciona un segmento de 5 s"
   ]
  },
  {
   "cell_type": "code",
   "execution_count": null,
   "id": "1ac69bca",
   "metadata": {},
   "outputs": [],
   "source": [
    "\n",
    "# Se selecciona un segmento de 5 s\n",
    "seg_dur   = 5           \n",
    "seg_start = 0           \n",
    "i_ini     = int(seg_start     * fs)\n",
    "i_fin     = int((seg_start+seg_dur) * fs)\n",
    "\n",
    "ecg_seg = ecg[i_ini:i_fin]\n",
    "t_seg   = t[i_ini:i_fin]"
   ]
  },
  {
   "cell_type": "markdown",
   "id": "f5a77d41",
   "metadata": {},
   "source": [
    "### Algoritmo Pan-Tompkins e  índices de picos R "
   ]
  },
  {
   "cell_type": "code",
   "execution_count": null,
   "id": "1328cbcb",
   "metadata": {},
   "outputs": [],
   "source": [
    "# Algoritmo Pan-Tompkins e  índices de picos R \n",
    "\n",
    "def bandpass(signal, fs, low=5.0, high=15.0, order=1):\n",
    "    nyq = 0.5 * fs\n",
    "    b, a = sig.butter(order, [low/nyq, high/nyq], btype='band')\n",
    "    return sig.filtfilt(b, a, signal)\n",
    "\n",
    "# 4.1  Filtrado 5-15 Hz (realza el complejo QRS y atenúa el ruido)\n",
    "ecg_f = bandpass(ecg_seg, fs)\n",
    "\n",
    "# 4.2  Derivada\n",
    "diff   = np.diff(ecg_f, prepend=ecg_f[0])\n",
    "\n",
    "# 4.3  Cuadrado\n",
    "squared = diff**2\n",
    "\n",
    "# 4.4  Integración por ventana móvil (150 ms ≈ 0.15 s)\n",
    "win = int(0.150 * fs)\n",
    "integ = np.convolve(squared, np.ones(win)/win, mode='same')\n",
    "\n",
    "# 4.5  Umbral adaptativo + período refractario (200 ms)\n",
    "thresh = 0.05 * np.max(integ)          # 5 % del máximo\n",
    "refrac = int(0.200 * fs)               # 200 ms\n",
    "peaks, _ = sig.find_peaks(integ, height=thresh, distance=refrac)\n",
    "\n",
    "# 4.6  Afinar cada pico: máximo local de la señal filtrada ±100 ms\n",
    "def refine(peaks, sig_filt, fs, win_ms=100):\n",
    "    w = int((win_ms/1000) * fs)\n",
    "    refined = []\n",
    "    for p in peaks:\n",
    "        a = max(0, p-w)\n",
    "        b = min(len(sig_filt), p+w)\n",
    "        refined.append(a + np.argmax(sig_filt[a:b]))\n",
    "    return np.array(refined, dtype=int)\n",
    "\n",
    "r_idx   = refine(peaks, ecg_f, fs)\n",
    "r_times = t_seg[r_idx]\n",
    "\n",
    "print(f\"Picos R detectados: {len(r_idx)}\")"
   ]
  },
  {
   "cell_type": "code",
   "execution_count": null,
   "id": "5f5bfa48",
   "metadata": {},
   "outputs": [],
   "source": [
    "# Gráfica de la señal cruda con picos R\n",
    "\n",
    "plt.figure(figsize=(12, 4))\n",
    "plt.plot(t_seg, ecg_seg, 'k', lw=0.8, label='ECG segmento')\n",
    "plt.plot(r_times, ecg_seg[r_idx], 'ro', label='Picos R')\n",
    "plt.title(f'ECG {record_name} – segmento {seg_start}-{seg_start+seg_dur} s')\n",
    "plt.xlabel('Tiempo [s]')\n",
    "plt.ylabel('Amplitud (mV)')\n",
    "plt.legend()\n",
    "plt.grid(True)\n",
    "plt.tight_layout()\n",
    "plt.show()"
   ]
  },
  {
   "cell_type": "code",
   "execution_count": null,
   "id": "58b560c5",
   "metadata": {},
   "outputs": [],
   "source": [
    "\n",
    "# Gráfica de la señal filtrada con picos R\n",
    "plt.figure(figsize=(12, 4))\n",
    "plt.plot(t_seg, ecg_f, 'b', lw=1, label='ECG filtrado (5–15 Hz)')\n",
    "plt.plot(r_times, ecg_f[r_idx], 'ro', label='Picos R')\n",
    "plt.title('Señal ECG filtrada – Pan-Tompkins')\n",
    "plt.xlabel('Tiempo [s]')\n",
    "plt.ylabel('Amplitud (mV)')\n",
    "plt.legend()\n",
    "plt.grid(True)\n",
    "plt.tight_layout()\n",
    "plt.show()"
   ]
  }
 ],
 "metadata": {
  "kernelspec": {
   "display_name": "venv",
   "language": "python",
   "name": "python3"
  },
  "language_info": {
   "codemirror_mode": {
    "name": "ipython",
    "version": 3
   },
   "file_extension": ".py",
   "mimetype": "text/x-python",
   "name": "python",
   "nbconvert_exporter": "python",
   "pygments_lexer": "ipython3",
   "version": "3.12.0"
  }
 },
 "nbformat": 4,
 "nbformat_minor": 5
}
