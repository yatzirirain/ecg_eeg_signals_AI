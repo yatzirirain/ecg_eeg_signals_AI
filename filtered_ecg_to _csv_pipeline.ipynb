{
 "cells": [
  {
   "cell_type": "markdown",
   "id": "5a93e035",
   "metadata": {},
   "source": [
    "# ECG Anlysis: R-Peak detection with Pan–Tompkins Algorithm\n",
    "---\n",
    "\n",
    "**Objective:** Load an ECG record from the PhysioNet I-CARE database, trim the first and last 5 minutes to avoid unstable signal segments,filter the ECG signal, detect R peaks, iterate over a list of records to filter each ECG signal, and export the time, filtered ECG, and R‑peak annotations for each record to its own CSV file."
   ]
  },
  {
   "cell_type": "code",
   "execution_count": null,
   "id": "a4c213a6",
   "metadata": {},
   "outputs": [],
   "source": [
    "# import necessary libraries\n",
    "\n",
    "import numpy as np\n",
    "import pandas as pd\n",
    "import wfdb\n",
    "import scipy.signal as sig"
   ]
  },
  {
   "cell_type": "code",
   "execution_count": 2,
   "id": "1731bf99",
   "metadata": {},
   "outputs": [],
   "source": [
    "# define processing parameters\n",
    "DB_DIR       = \"i-care/2.0/training/0427\"       # PhysioNet I-CARE database directory\n",
    "CHANNEL      = 0                                # ECG channel to process  \n",
    "TRIM_MIN     = 5                                # minutes trimmed from start & end\n",
    "FILTER_BAND  = (5.0, 15.0)                      # Hz (Pan-Tompkins band)"
   ]
  },
  {
   "cell_type": "markdown",
   "id": "f6cb387b",
   "metadata": {},
   "source": [
    "### Functions definition"
   ]
  },
  {
   "cell_type": "markdown",
   "id": "7f1cf317",
   "metadata": {},
   "source": [
    "Here we define functions that perform each of the main processing steps:"
   ]
  },
  {
   "cell_type": "code",
   "execution_count": null,
   "id": "86c4a10b",
   "metadata": {},
   "outputs": [],
   "source": [
    "def bandpass(signal, fs, low=5.0, high=15.0, order=1):\n",
    "    \"\"\"Butterworth band-pass filter\"\"\"\n",
    "    nyq = 0.5 * fs\n",
    "    b, a = sig.butter(order, [low/nyq, high/nyq], btype=\"band\")\n",
    "    return sig.filtfilt(b, a, signal)\n",
    "\n",
    "\n",
    "def refine(peaks, sig_f, fs, win_ms=100):\n",
    "    \"\"\"±win_ms search to move each peak to the local maximum\"\"\"\n",
    "    w = int((win_ms / 1000) * fs)\n",
    "    return np.array([p - w + np.argmax(sig_f[max(0, p - w) : p + w]) for p in peaks], int)\n",
    "\n",
    "\n",
    "def pan_tompkins_indices(sig_f, fs):\n",
    "    \"\"\"Pan-Tompkins R-peak detector on a pre-filtered signal \"\"\"\n",
    "    diff    = np.diff(sig_f, prepend=sig_f[0])\n",
    "    squared = diff ** 2\n",
    "    win     = int(0.150 * fs)\n",
    "    integ   = np.convolve(squared, np.ones(win) / win, mode=\"same\")\n",
    "    thresh  = 0.05 * np.max(integ)\n",
    "    refrac  = int(0.200 * fs)                # 200 ms\n",
    "    peaks, _ = sig.find_peaks(integ, height=thresh, distance=refrac)\n",
    "    return refine(peaks, sig_f, fs, 100)\n",
    "\n",
    "\n",
    "def filter_and_save(record_name,\n",
    "                    db_dir      = DB_DIR,\n",
    "                    channel     = CHANNEL,\n",
    "                    trim_min    = TRIM_MIN,\n",
    "                    filter_band = FILTER_BAND):\n",
    "    # 1. Load header+signal\n",
    "    rec = wfdb.rdrecord(record_name, pn_dir=db_dir)\n",
    "    fs  = rec.fs\n",
    "    ecg = rec.p_signal[:, channel]\n",
    "    t   = np.arange(rec.sig_len) / fs\n",
    "\n",
    "    # 2. Trim off the first/last `trim_min` minutes\n",
    "    skip = int(trim_min * 60 * fs)           \n",
    "    ecg_trim = ecg[skip : -skip]\n",
    "    t_trim   = t[skip : -skip]\n",
    "\n",
    "    # 3. Filter and detect R peaks\n",
    "    ecg_f = bandpass(ecg_trim, fs, *filter_band)\n",
    "    r_idx = pan_tompkins_indices(ecg_f, fs)\n",
    "\n",
    "    # 4. Build DataFrame\n",
    "    df = pd.DataFrame({\n",
    "        \"time_s\"  : t_trim,\n",
    "        \"ecg_filt\": ecg_f,\n",
    "        \"is_R\"    : False\n",
    "    })\n",
    "    df.loc[r_idx, \"is_R\"] = True\n",
    "\n",
    "    # 5. Save to CSV file\n",
    "    csv_path = f\"{record_name}_filtered.csv\"\n",
    "    df.to_csv(csv_path, index=False)\n",
    "    print(f\"✓ {record_name}: {len(r_idx)} peaks → {csv_path}\")\n",
    "\n",
    "    return df"
   ]
  },
  {
   "cell_type": "markdown",
   "id": "49e16eb0",
   "metadata": {},
   "source": [
    "### Records processing"
   ]
  },
  {
   "cell_type": "code",
   "execution_count": null,
   "id": "10f9443b",
   "metadata": {},
   "outputs": [],
   "source": [
    "records = [\"0427_001_016_ECG\",\"0427_002_017_ECG\",\"0427_003_018_ECG\",\"0427_004_019_ECG\",\"0427_005_020_ECG\",\"0427_006_020_ECG\",\"0427_007_021_ECG\",\"0427_008_022_ECG\",\"0427_009_023_ECG\",\"0427_010_024_ECG\",\"0427_011_024_ECG\",\"0427_012_025_ECG\",\"0427_013_026_ECG\",\"0427_014_027_ECG\",\"0427_015_028_ECG\",\"0427_016_028_ECG\",\"0427_017_029_ECG\",\"0427_018_030_ECG\",\"0427_019_031_ECG\",\"0427_020_032_ECG\",\"0427_021_032_ECG\",\"0427_022_033_ECG\",\"0427_023_034_ECG\",\"0427_024_035_ECG\",\"0427_025_036_ECG\",\"0427_026_036_ECG\",\"0427_027_037_ECG\",\"0427_028_038_ECG\",\"0427_029_039_ECG\",\"0427_030_040_ECG\",\"0427_031_040_ECG\",\"0427_032_041_ECG\",\"0427_033_042_ECG\",\"0427_034_043_ECG\",\"0427_035_044_ECG\",\"0427_036_044_ECG\",\"0427_037_045_ECG\",\"0427_038_046_ECG\",\"0427_039_047_ECG\",\"0427_040_048_ECG\",\"0427_041_048_ECG\",\"0427_042_049_ECG\",\"0427_043_050_ECG\",\"0427_044_051_ECG\",\"0427_045_052_ECG\",\"0427_046_052_ECG\",\"0427_047_053_ECG\",\"0427_048_054_ECG\",\"0427_049_055_ECG\",\"0427_050_056_ECG\",\"0427_051_056_ECG\",\"0427_052_057_ECG\",\"0427_053_058_ECG\",\"0427_054_059_ECG\",\"0427_055_060_ECG\",\"0427_056_060_ECG\",\"0427_057_061_ECG\",\"0427_058_062_ECG\",\"0427_059_063_ECG\",\"0427_060_064_ECG\",\"0427_061_064_ECG\",\"0427_062_065_ECG\",\"0427_063_066_ECG\",\"0427_064_067_ECG\",\"0427_065_068_ECG\",\"0427_066_068_ECG\",\"0427_067_069_ECG\",\"0427_068_070_ECG\",\"0427_069_071_ECG\",\"0427_070_072_ECG\",\"0427_071_072_ECG\",\"0427_072_073_ECG\",\"0427_073_074_ECG\",\"0427_074_075_ECG\",\"0427_075_076_ECG\",\"0427_076_076_ECG\",\"0427_077_077_ECG\",\"0427_078_078_ECG\",\"0427_079_079_ECG\",\"0427_080_080_ECG\",\"0427_081_080_ECG\",\"0427_082_081_ECG\",\"0427_083_082_ECG\",\"0427_084_083_ECG\",\"0427_085_084_ECG\",\"0427_086_084_ECG\",\"0427_087_085_ECG\",\"0427_088_086_ECG\",\"0427_089_087_ECG\",\"0427_090_088_ECG\",\"0427_091_088_ECG\"]"
   ]
  },
  {
   "cell_type": "code",
   "execution_count": null,
   "id": "7590ea5d",
   "metadata": {},
   "outputs": [
    {
     "ename": "KeyboardInterrupt",
     "evalue": "",
     "output_type": "error",
     "traceback": [
      "\u001b[31m---------------------------------------------------------------------------\u001b[39m",
      "\u001b[31mKeyboardInterrupt\u001b[39m                         Traceback (most recent call last)",
      "\u001b[36mCell\u001b[39m\u001b[36m \u001b[39m\u001b[32mIn[26]\u001b[39m\u001b[32m, line 2\u001b[39m\n\u001b[32m      1\u001b[39m \u001b[38;5;28;01mfor\u001b[39;00m rec_name \u001b[38;5;129;01min\u001b[39;00m records_0427[\u001b[32m3\u001b[39m:]:\n\u001b[32m----> \u001b[39m\u001b[32m2\u001b[39m     \u001b[43mfilter_and_save\u001b[49m\u001b[43m(\u001b[49m\u001b[43mrec_name\u001b[49m\u001b[43m)\u001b[49m\n",
      "\u001b[36mCell\u001b[39m\u001b[36m \u001b[39m\u001b[32mIn[23]\u001b[39m\u001b[32m, line 32\u001b[39m, in \u001b[36mfilter_and_save\u001b[39m\u001b[34m(record_name, db_dir, channel, trim_min, filter_band)\u001b[39m\n\u001b[32m     26\u001b[39m \u001b[38;5;28;01mdef\u001b[39;00m\u001b[38;5;250m \u001b[39m\u001b[34mfilter_and_save\u001b[39m(record_name,\n\u001b[32m     27\u001b[39m                     db_dir      = DB_DIR,\n\u001b[32m     28\u001b[39m                     channel     = CHANNEL,\n\u001b[32m     29\u001b[39m                     trim_min    = TRIM_MIN,\n\u001b[32m     30\u001b[39m                     filter_band = FILTER_BAND):\n\u001b[32m     31\u001b[39m     \u001b[38;5;66;03m# 1. Load header+signal\u001b[39;00m\n\u001b[32m---> \u001b[39m\u001b[32m32\u001b[39m     rec = \u001b[43mwfdb\u001b[49m\u001b[43m.\u001b[49m\u001b[43mrdrecord\u001b[49m\u001b[43m(\u001b[49m\u001b[43mrecord_name\u001b[49m\u001b[43m,\u001b[49m\u001b[43m \u001b[49m\u001b[43mpn_dir\u001b[49m\u001b[43m=\u001b[49m\u001b[43mdb_dir\u001b[49m\u001b[43m)\u001b[49m\n\u001b[32m     33\u001b[39m     fs  = rec.fs\n\u001b[32m     34\u001b[39m     ecg = rec.p_signal[:, channel]\n",
      "\u001b[36mFile \u001b[39m\u001b[32mc:\\Users\\yatz_\\OneDrive - Instituto Politecnico Nacional\\Proyectos\\ecg_eeg_signals_AI\\venv\\Lib\\site-packages\\wfdb\\io\\record.py:2135\u001b[39m, in \u001b[36mrdrecord\u001b[39m\u001b[34m(record_name, sampfrom, sampto, channels, physical, pn_dir, m2s, smooth_frames, ignore_skew, return_res, force_channels, channel_names, warn_empty)\u001b[39m\n\u001b[32m   2132\u001b[39m no_file = \u001b[38;5;28;01mFalse\u001b[39;00m\n\u001b[32m   2133\u001b[39m sig_data = \u001b[38;5;28;01mNone\u001b[39;00m\n\u001b[32m-> \u001b[39m\u001b[32m2135\u001b[39m record.e_d_signal = \u001b[43m_signal\u001b[49m\u001b[43m.\u001b[49m\u001b[43m_rd_segment\u001b[49m\u001b[43m(\u001b[49m\n\u001b[32m   2136\u001b[39m \u001b[43m    \u001b[49m\u001b[43mfile_name\u001b[49m\u001b[43m=\u001b[49m\u001b[43mrecord\u001b[49m\u001b[43m.\u001b[49m\u001b[43mfile_name\u001b[49m\u001b[43m,\u001b[49m\n\u001b[32m   2137\u001b[39m \u001b[43m    \u001b[49m\u001b[43mdir_name\u001b[49m\u001b[43m=\u001b[49m\u001b[43mdir_name\u001b[49m\u001b[43m,\u001b[49m\n\u001b[32m   2138\u001b[39m \u001b[43m    \u001b[49m\u001b[43mpn_dir\u001b[49m\u001b[43m=\u001b[49m\u001b[43mpn_dir\u001b[49m\u001b[43m,\u001b[49m\n\u001b[32m   2139\u001b[39m \u001b[43m    \u001b[49m\u001b[43mfmt\u001b[49m\u001b[43m=\u001b[49m\u001b[43mrecord\u001b[49m\u001b[43m.\u001b[49m\u001b[43mfmt\u001b[49m\u001b[43m,\u001b[49m\n\u001b[32m   2140\u001b[39m \u001b[43m    \u001b[49m\u001b[43mn_sig\u001b[49m\u001b[43m=\u001b[49m\u001b[43mrecord\u001b[49m\u001b[43m.\u001b[49m\u001b[43mn_sig\u001b[49m\u001b[43m,\u001b[49m\n\u001b[32m   2141\u001b[39m \u001b[43m    \u001b[49m\u001b[43msig_len\u001b[49m\u001b[43m=\u001b[49m\u001b[43mrecord\u001b[49m\u001b[43m.\u001b[49m\u001b[43msig_len\u001b[49m\u001b[43m,\u001b[49m\n\u001b[32m   2142\u001b[39m \u001b[43m    \u001b[49m\u001b[43mbyte_offset\u001b[49m\u001b[43m=\u001b[49m\u001b[43mrecord\u001b[49m\u001b[43m.\u001b[49m\u001b[43mbyte_offset\u001b[49m\u001b[43m,\u001b[49m\n\u001b[32m   2143\u001b[39m \u001b[43m    \u001b[49m\u001b[43msamps_per_frame\u001b[49m\u001b[43m=\u001b[49m\u001b[43mrecord\u001b[49m\u001b[43m.\u001b[49m\u001b[43msamps_per_frame\u001b[49m\u001b[43m,\u001b[49m\n\u001b[32m   2144\u001b[39m \u001b[43m    \u001b[49m\u001b[43mskew\u001b[49m\u001b[43m=\u001b[49m\u001b[43mrecord\u001b[49m\u001b[43m.\u001b[49m\u001b[43mskew\u001b[49m\u001b[43m,\u001b[49m\n\u001b[32m   2145\u001b[39m \u001b[43m    \u001b[49m\u001b[43minit_value\u001b[49m\u001b[43m=\u001b[49m\u001b[43mrecord\u001b[49m\u001b[43m.\u001b[49m\u001b[43minit_value\u001b[49m\u001b[43m,\u001b[49m\n\u001b[32m   2146\u001b[39m \u001b[43m    \u001b[49m\u001b[43msampfrom\u001b[49m\u001b[43m=\u001b[49m\u001b[43msampfrom\u001b[49m\u001b[43m,\u001b[49m\n\u001b[32m   2147\u001b[39m \u001b[43m    \u001b[49m\u001b[43msampto\u001b[49m\u001b[43m=\u001b[49m\u001b[43msampto\u001b[49m\u001b[43m,\u001b[49m\n\u001b[32m   2148\u001b[39m \u001b[43m    \u001b[49m\u001b[43mchannels\u001b[49m\u001b[43m=\u001b[49m\u001b[43mchannels\u001b[49m\u001b[43m,\u001b[49m\n\u001b[32m   2149\u001b[39m \u001b[43m    \u001b[49m\u001b[43mignore_skew\u001b[49m\u001b[43m=\u001b[49m\u001b[43mignore_skew\u001b[49m\u001b[43m,\u001b[49m\n\u001b[32m   2150\u001b[39m \u001b[43m    \u001b[49m\u001b[43mno_file\u001b[49m\u001b[43m=\u001b[49m\u001b[43mno_file\u001b[49m\u001b[43m,\u001b[49m\n\u001b[32m   2151\u001b[39m \u001b[43m    \u001b[49m\u001b[43msig_data\u001b[49m\u001b[43m=\u001b[49m\u001b[43msig_data\u001b[49m\u001b[43m,\u001b[49m\n\u001b[32m   2152\u001b[39m \u001b[43m    \u001b[49m\u001b[43mreturn_res\u001b[49m\u001b[43m=\u001b[49m\u001b[43mreturn_res\u001b[49m\u001b[43m,\u001b[49m\n\u001b[32m   2153\u001b[39m \u001b[43m\u001b[49m\u001b[43m)\u001b[49m\n\u001b[32m   2155\u001b[39m \u001b[38;5;66;03m# Only 1 sample/frame, or frames are smoothed. Return uniform numpy array\u001b[39;00m\n\u001b[32m   2156\u001b[39m \u001b[38;5;28;01mif\u001b[39;00m smooth_frames:\n\u001b[32m   2157\u001b[39m     \u001b[38;5;66;03m# Arrange/edit the object fields to reflect user channel\u001b[39;00m\n\u001b[32m   2158\u001b[39m     \u001b[38;5;66;03m# and/or signal range input\u001b[39;00m\n",
      "\u001b[36mFile \u001b[39m\u001b[32mc:\\Users\\yatz_\\OneDrive - Instituto Politecnico Nacional\\Proyectos\\ecg_eeg_signals_AI\\venv\\Lib\\site-packages\\wfdb\\io\\_signal.py:1252\u001b[39m, in \u001b[36m_rd_segment\u001b[39m\u001b[34m(file_name, dir_name, pn_dir, fmt, n_sig, sig_len, byte_offset, samps_per_frame, skew, init_value, sampfrom, sampto, channels, ignore_skew, no_file, sig_data, return_res)\u001b[39m\n\u001b[32m   1248\u001b[39m signals = [\u001b[38;5;28;01mNone\u001b[39;00m] * \u001b[38;5;28mlen\u001b[39m(channels)\n\u001b[32m   1250\u001b[39m \u001b[38;5;28;01mfor\u001b[39;00m fn \u001b[38;5;129;01min\u001b[39;00m w_file_name:\n\u001b[32m   1251\u001b[39m     \u001b[38;5;66;03m# Get the list of all signals contained in the dat file\u001b[39;00m\n\u001b[32m-> \u001b[39m\u001b[32m1252\u001b[39m     datsignals = \u001b[43m_rd_dat_signals\u001b[49m\u001b[43m(\u001b[49m\n\u001b[32m   1253\u001b[39m \u001b[43m        \u001b[49m\u001b[43mfile_name\u001b[49m\u001b[43m=\u001b[49m\u001b[43mfn\u001b[49m\u001b[43m,\u001b[49m\n\u001b[32m   1254\u001b[39m \u001b[43m        \u001b[49m\u001b[43mdir_name\u001b[49m\u001b[43m=\u001b[49m\u001b[43mdir_name\u001b[49m\u001b[43m,\u001b[49m\n\u001b[32m   1255\u001b[39m \u001b[43m        \u001b[49m\u001b[43mpn_dir\u001b[49m\u001b[43m=\u001b[49m\u001b[43mpn_dir\u001b[49m\u001b[43m,\u001b[49m\n\u001b[32m   1256\u001b[39m \u001b[43m        \u001b[49m\u001b[43mfmt\u001b[49m\u001b[43m=\u001b[49m\u001b[43mw_fmt\u001b[49m\u001b[43m[\u001b[49m\u001b[43mfn\u001b[49m\u001b[43m]\u001b[49m\u001b[43m,\u001b[49m\n\u001b[32m   1257\u001b[39m \u001b[43m        \u001b[49m\u001b[43mn_sig\u001b[49m\u001b[43m=\u001b[49m\u001b[38;5;28;43mlen\u001b[39;49m\u001b[43m(\u001b[49m\u001b[43mdatchannel\u001b[49m\u001b[43m[\u001b[49m\u001b[43mfn\u001b[49m\u001b[43m]\u001b[49m\u001b[43m)\u001b[49m\u001b[43m,\u001b[49m\n\u001b[32m   1258\u001b[39m \u001b[43m        \u001b[49m\u001b[43msig_len\u001b[49m\u001b[43m=\u001b[49m\u001b[43msig_len\u001b[49m\u001b[43m,\u001b[49m\n\u001b[32m   1259\u001b[39m \u001b[43m        \u001b[49m\u001b[43mbyte_offset\u001b[49m\u001b[43m=\u001b[49m\u001b[43mw_byte_offset\u001b[49m\u001b[43m[\u001b[49m\u001b[43mfn\u001b[49m\u001b[43m]\u001b[49m\u001b[43m,\u001b[49m\n\u001b[32m   1260\u001b[39m \u001b[43m        \u001b[49m\u001b[43msamps_per_frame\u001b[49m\u001b[43m=\u001b[49m\u001b[43mw_samps_per_frame\u001b[49m\u001b[43m[\u001b[49m\u001b[43mfn\u001b[49m\u001b[43m]\u001b[49m\u001b[43m,\u001b[49m\n\u001b[32m   1261\u001b[39m \u001b[43m        \u001b[49m\u001b[43mskew\u001b[49m\u001b[43m=\u001b[49m\u001b[43mw_skew\u001b[49m\u001b[43m[\u001b[49m\u001b[43mfn\u001b[49m\u001b[43m]\u001b[49m\u001b[43m,\u001b[49m\n\u001b[32m   1262\u001b[39m \u001b[43m        \u001b[49m\u001b[43minit_value\u001b[49m\u001b[43m=\u001b[49m\u001b[43mw_init_value\u001b[49m\u001b[43m[\u001b[49m\u001b[43mfn\u001b[49m\u001b[43m]\u001b[49m\u001b[43m,\u001b[49m\n\u001b[32m   1263\u001b[39m \u001b[43m        \u001b[49m\u001b[43msampfrom\u001b[49m\u001b[43m=\u001b[49m\u001b[43msampfrom\u001b[49m\u001b[43m,\u001b[49m\n\u001b[32m   1264\u001b[39m \u001b[43m        \u001b[49m\u001b[43msampto\u001b[49m\u001b[43m=\u001b[49m\u001b[43msampto\u001b[49m\u001b[43m,\u001b[49m\n\u001b[32m   1265\u001b[39m \u001b[43m        \u001b[49m\u001b[43mno_file\u001b[49m\u001b[43m=\u001b[49m\u001b[43mno_file\u001b[49m\u001b[43m,\u001b[49m\n\u001b[32m   1266\u001b[39m \u001b[43m        \u001b[49m\u001b[43msig_data\u001b[49m\u001b[43m=\u001b[49m\u001b[43msig_data\u001b[49m\u001b[43m,\u001b[49m\n\u001b[32m   1267\u001b[39m \u001b[43m    \u001b[49m\u001b[43m)\u001b[49m\n\u001b[32m   1269\u001b[39m     \u001b[38;5;66;03m# Copy over the wanted signals\u001b[39;00m\n\u001b[32m   1270\u001b[39m     \u001b[38;5;28;01mfor\u001b[39;00m cn \u001b[38;5;129;01min\u001b[39;00m \u001b[38;5;28mrange\u001b[39m(\u001b[38;5;28mlen\u001b[39m(out_dat_channel[fn])):\n",
      "\u001b[36mFile \u001b[39m\u001b[32mc:\\Users\\yatz_\\OneDrive - Instituto Politecnico Nacional\\Proyectos\\ecg_eeg_signals_AI\\venv\\Lib\\site-packages\\wfdb\\io\\_signal.py:1392\u001b[39m, in \u001b[36m_rd_dat_signals\u001b[39m\u001b[34m(file_name, dir_name, pn_dir, fmt, n_sig, sig_len, byte_offset, samps_per_frame, skew, init_value, sampfrom, sampto, no_file, sig_data)\u001b[39m\n\u001b[32m   1380\u001b[39m     data_to_read = _rd_compressed_file(\n\u001b[32m   1381\u001b[39m         file_name=file_name,\n\u001b[32m   1382\u001b[39m         dir_name=dir_name,\n\u001b[32m   (...)\u001b[39m\u001b[32m   1389\u001b[39m         end_frame=sampto,\n\u001b[32m   1390\u001b[39m     )\n\u001b[32m   1391\u001b[39m \u001b[38;5;28;01melse\u001b[39;00m:\n\u001b[32m-> \u001b[39m\u001b[32m1392\u001b[39m     data_to_read = \u001b[43m_rd_dat_file\u001b[49m\u001b[43m(\u001b[49m\n\u001b[32m   1393\u001b[39m \u001b[43m        \u001b[49m\u001b[43mfile_name\u001b[49m\u001b[43m,\u001b[49m\u001b[43m \u001b[49m\u001b[43mdir_name\u001b[49m\u001b[43m,\u001b[49m\u001b[43m \u001b[49m\u001b[43mpn_dir\u001b[49m\u001b[43m,\u001b[49m\u001b[43m \u001b[49m\u001b[43mfmt\u001b[49m\u001b[43m,\u001b[49m\u001b[43m \u001b[49m\u001b[43mstart_byte\u001b[49m\u001b[43m,\u001b[49m\u001b[43m \u001b[49m\u001b[43mn_read_samples\u001b[49m\n\u001b[32m   1394\u001b[39m \u001b[43m    \u001b[49m\u001b[43m)\u001b[49m\n\u001b[32m   1396\u001b[39m \u001b[38;5;28;01mif\u001b[39;00m extra_flat_samples:\n\u001b[32m   1397\u001b[39m     \u001b[38;5;28;01mif\u001b[39;00m fmt \u001b[38;5;129;01min\u001b[39;00m UNALIGNED_FMTS:\n\u001b[32m   1398\u001b[39m         \u001b[38;5;66;03m# Extra number of bytes to append onto the bytes read from\u001b[39;00m\n\u001b[32m   1399\u001b[39m         \u001b[38;5;66;03m# the dat file.\u001b[39;00m\n",
      "\u001b[36mFile \u001b[39m\u001b[32mc:\\Users\\yatz_\\OneDrive - Instituto Politecnico Nacional\\Proyectos\\ecg_eeg_signals_AI\\venv\\Lib\\site-packages\\wfdb\\io\\_signal.py:1708\u001b[39m, in \u001b[36m_rd_dat_file\u001b[39m\u001b[34m(file_name, dir_name, pn_dir, fmt, start_byte, n_samp)\u001b[39m\n\u001b[32m   1703\u001b[39m         \u001b[38;5;28;01mraise\u001b[39;00m \u001b[38;5;167;01mValueError\u001b[39;00m(\n\u001b[32m   1704\u001b[39m             \u001b[33m\"\u001b[39m\u001b[33mCloud paths should be passed under record_name, not under pn_dir\u001b[39m\u001b[33m\"\u001b[39m\n\u001b[32m   1705\u001b[39m         )\n\u001b[32m   1707\u001b[39m     dtype_in = np.dtype(DATA_LOAD_TYPES[fmt])\n\u001b[32m-> \u001b[39m\u001b[32m1708\u001b[39m     sig_data = \u001b[43mdownload\u001b[49m\u001b[43m.\u001b[49m\u001b[43m_stream_dat\u001b[49m\u001b[43m(\u001b[49m\n\u001b[32m   1709\u001b[39m \u001b[43m        \u001b[49m\u001b[43mfile_name\u001b[49m\u001b[43m,\u001b[49m\u001b[43m \u001b[49m\u001b[43mpn_dir\u001b[49m\u001b[43m,\u001b[49m\u001b[43m \u001b[49m\u001b[43mbyte_count\u001b[49m\u001b[43m,\u001b[49m\u001b[43m \u001b[49m\u001b[43mstart_byte\u001b[49m\u001b[43m,\u001b[49m\u001b[43m \u001b[49m\u001b[43mdtype_in\u001b[49m\n\u001b[32m   1710\u001b[39m \u001b[43m    \u001b[49m\u001b[43m)\u001b[49m\n\u001b[32m   1712\u001b[39m \u001b[38;5;28;01mreturn\u001b[39;00m sig_data\n",
      "\u001b[36mFile \u001b[39m\u001b[32mc:\\Users\\yatz_\\OneDrive - Instituto Politecnico Nacional\\Proyectos\\ecg_eeg_signals_AI\\venv\\Lib\\site-packages\\wfdb\\io\\download.py:143\u001b[39m, in \u001b[36m_stream_dat\u001b[39m\u001b[34m(file_name, pn_dir, byte_count, start_byte, dtype)\u001b[39m\n\u001b[32m    141\u001b[39m \u001b[38;5;28;01mwith\u001b[39;00m _url.openurl(url, \u001b[33m\"\u001b[39m\u001b[33mrb\u001b[39m\u001b[33m\"\u001b[39m, buffering=\u001b[32m0\u001b[39m) \u001b[38;5;28;01mas\u001b[39;00m f:\n\u001b[32m    142\u001b[39m     f.seek(start_byte)\n\u001b[32m--> \u001b[39m\u001b[32m143\u001b[39m     content = \u001b[43mf\u001b[49m\u001b[43m.\u001b[49m\u001b[43mread\u001b[49m\u001b[43m(\u001b[49m\u001b[43mbyte_count\u001b[49m\u001b[43m)\u001b[49m\n\u001b[32m    145\u001b[39m \u001b[38;5;66;03m# Convert to numpy array\u001b[39;00m\n\u001b[32m    146\u001b[39m sig_data = np.frombuffer(content, dtype=dtype)\n",
      "\u001b[36mFile \u001b[39m\u001b[32mc:\\Users\\yatz_\\OneDrive - Instituto Politecnico Nacional\\Proyectos\\ecg_eeg_signals_AI\\venv\\Lib\\site-packages\\wfdb\\io\\_url.py:581\u001b[39m, in \u001b[36mNetFile.read\u001b[39m\u001b[34m(self, size)\u001b[39m\n\u001b[32m    578\u001b[39m \u001b[38;5;28;01melse\u001b[39;00m:\n\u001b[32m    579\u001b[39m     \u001b[38;5;28;01mraise\u001b[39;00m \u001b[38;5;167;01mValueError\u001b[39;00m(\u001b[33m\"\u001b[39m\u001b[33minvalid size: \u001b[39m\u001b[38;5;132;01m%r\u001b[39;00m\u001b[33m\"\u001b[39m % (size,))\n\u001b[32m--> \u001b[39m\u001b[32m581\u001b[39m result = \u001b[33;43mb\u001b[39;49m\u001b[33;43m\"\u001b[39;49m\u001b[33;43m\"\u001b[39;49m\u001b[43m.\u001b[49m\u001b[43mjoin\u001b[49m\u001b[43m(\u001b[49m\u001b[38;5;28;43mself\u001b[39;49m\u001b[43m.\u001b[49m\u001b[43m_read_range\u001b[49m\u001b[43m(\u001b[49m\u001b[43mstart\u001b[49m\u001b[43m,\u001b[49m\u001b[43m \u001b[49m\u001b[43mend\u001b[49m\u001b[43m)\u001b[49m\u001b[43m)\u001b[49m\n\u001b[32m    582\u001b[39m \u001b[38;5;28mself\u001b[39m._pos += \u001b[38;5;28mlen\u001b[39m(result)\n\u001b[32m    583\u001b[39m \u001b[38;5;28;01mreturn\u001b[39;00m result\n",
      "\u001b[36mFile \u001b[39m\u001b[32mc:\\Users\\yatz_\\OneDrive - Instituto Politecnico Nacional\\Proyectos\\ecg_eeg_signals_AI\\venv\\Lib\\site-packages\\wfdb\\io\\_url.py:498\u001b[39m, in \u001b[36mNetFile._read_range\u001b[39m\u001b[34m(self, start, end)\u001b[39m\n\u001b[32m    495\u001b[39m     \u001b[38;5;28;01myield\u001b[39;00m \u001b[38;5;28mself\u001b[39m._read_buffered_range(start, end)\n\u001b[32m    496\u001b[39m \u001b[38;5;28;01melse\u001b[39;00m:\n\u001b[32m    497\u001b[39m     \u001b[38;5;66;03m# Return requested data to caller without buffering.\u001b[39;00m\n\u001b[32m--> \u001b[39m\u001b[32m498\u001b[39m \u001b[43m    \u001b[49m\u001b[38;5;28;43;01mfor\u001b[39;49;00m\u001b[43m \u001b[49m\u001b[43mchunk_start\u001b[49m\u001b[43m,\u001b[49m\u001b[43m \u001b[49m\u001b[43mchunk_data\u001b[49m\u001b[43m \u001b[49m\u001b[38;5;129;43;01min\u001b[39;49;00m\u001b[43m \u001b[49m\u001b[43mxfer\u001b[49m\u001b[43m.\u001b[49m\u001b[43miter_chunks\u001b[49m\u001b[43m(\u001b[49m\u001b[43m)\u001b[49m\u001b[43m:\u001b[49m\n\u001b[32m    499\u001b[39m \u001b[43m        \u001b[49m\u001b[43mrel_start\u001b[49m\u001b[43m \u001b[49m\u001b[43m=\u001b[49m\u001b[43m \u001b[49m\u001b[43mstart\u001b[49m\u001b[43m \u001b[49m\u001b[43m-\u001b[49m\u001b[43m \u001b[49m\u001b[43mchunk_start\u001b[49m\n\u001b[32m    500\u001b[39m \u001b[43m        \u001b[49m\u001b[38;5;28;43;01mif\u001b[39;49;00m\u001b[43m \u001b[49m\u001b[32;43m0\u001b[39;49m\u001b[43m \u001b[49m\u001b[43m<\u001b[49m\u001b[43m=\u001b[49m\u001b[43m \u001b[49m\u001b[43mrel_start\u001b[49m\u001b[43m \u001b[49m\u001b[43m<\u001b[49m\u001b[43m \u001b[49m\u001b[38;5;28;43mlen\u001b[39;49m\u001b[43m(\u001b[49m\u001b[43mchunk_data\u001b[49m\u001b[43m)\u001b[49m\u001b[43m:\u001b[49m\n",
      "\u001b[36mFile \u001b[39m\u001b[32mc:\\Users\\yatz_\\OneDrive - Instituto Politecnico Nacional\\Proyectos\\ecg_eeg_signals_AI\\venv\\Lib\\site-packages\\wfdb\\io\\_url.py:330\u001b[39m, in \u001b[36mRangeTransfer.iter_chunks\u001b[39m\u001b[34m(self)\u001b[39m\n\u001b[32m    313\u001b[39m \u001b[38;5;28;01mdef\u001b[39;00m\u001b[38;5;250m \u001b[39m\u001b[34miter_chunks\u001b[39m(\u001b[38;5;28mself\u001b[39m):\n\u001b[32m    314\u001b[39m \u001b[38;5;250m    \u001b[39m\u001b[33;03m\"\"\"\u001b[39;00m\n\u001b[32m    315\u001b[39m \u001b[33;03m    Iterate over the response body as a sequence of chunks.\u001b[39;00m\n\u001b[32m    316\u001b[39m \n\u001b[32m   (...)\u001b[39m\u001b[32m    328\u001b[39m \n\u001b[32m    329\u001b[39m \u001b[33;03m    \"\"\"\u001b[39;00m\n\u001b[32m--> \u001b[39m\u001b[32m330\u001b[39m \u001b[43m    \u001b[49m\u001b[38;5;28;43;01mfor\u001b[39;49;00m\u001b[43m \u001b[49m\u001b[43mchunk_data\u001b[49m\u001b[43m \u001b[49m\u001b[38;5;129;43;01min\u001b[39;49;00m\u001b[43m \u001b[49m\u001b[38;5;28;43mself\u001b[39;49m\u001b[43m.\u001b[49m\u001b[43m_content_iter\u001b[49m\u001b[43m:\u001b[49m\n\u001b[32m    331\u001b[39m \u001b[43m        \u001b[49m\u001b[43mchunk_start\u001b[49m\u001b[43m \u001b[49m\u001b[43m=\u001b[49m\u001b[43m \u001b[49m\u001b[38;5;28;43mself\u001b[39;49m\u001b[43m.\u001b[49m\u001b[43m_current_pos\u001b[49m\n\u001b[32m    332\u001b[39m \u001b[43m        \u001b[49m\u001b[38;5;28;43mself\u001b[39;49m\u001b[43m.\u001b[49m\u001b[43m_current_pos\u001b[49m\u001b[43m \u001b[49m\u001b[43m+\u001b[49m\u001b[43m=\u001b[49m\u001b[43m \u001b[49m\u001b[38;5;28;43mlen\u001b[39;49m\u001b[43m(\u001b[49m\u001b[43mchunk_data\u001b[49m\u001b[43m)\u001b[49m\n",
      "\u001b[36mFile \u001b[39m\u001b[32mc:\\Users\\yatz_\\OneDrive - Instituto Politecnico Nacional\\Proyectos\\ecg_eeg_signals_AI\\venv\\Lib\\site-packages\\requests\\models.py:820\u001b[39m, in \u001b[36mResponse.iter_content.<locals>.generate\u001b[39m\u001b[34m()\u001b[39m\n\u001b[32m    818\u001b[39m \u001b[38;5;28;01mif\u001b[39;00m \u001b[38;5;28mhasattr\u001b[39m(\u001b[38;5;28mself\u001b[39m.raw, \u001b[33m\"\u001b[39m\u001b[33mstream\u001b[39m\u001b[33m\"\u001b[39m):\n\u001b[32m    819\u001b[39m     \u001b[38;5;28;01mtry\u001b[39;00m:\n\u001b[32m--> \u001b[39m\u001b[32m820\u001b[39m         \u001b[38;5;28;01myield from\u001b[39;00m \u001b[38;5;28mself\u001b[39m.raw.stream(chunk_size, decode_content=\u001b[38;5;28;01mTrue\u001b[39;00m)\n\u001b[32m    821\u001b[39m     \u001b[38;5;28;01mexcept\u001b[39;00m ProtocolError \u001b[38;5;28;01mas\u001b[39;00m e:\n\u001b[32m    822\u001b[39m         \u001b[38;5;28;01mraise\u001b[39;00m ChunkedEncodingError(e)\n",
      "\u001b[36mFile \u001b[39m\u001b[32mc:\\Users\\yatz_\\OneDrive - Instituto Politecnico Nacional\\Proyectos\\ecg_eeg_signals_AI\\venv\\Lib\\site-packages\\urllib3\\response.py:1091\u001b[39m, in \u001b[36mHTTPResponse.stream\u001b[39m\u001b[34m(self, amt, decode_content)\u001b[39m\n\u001b[32m   1089\u001b[39m \u001b[38;5;28;01melse\u001b[39;00m:\n\u001b[32m   1090\u001b[39m     \u001b[38;5;28;01mwhile\u001b[39;00m \u001b[38;5;129;01mnot\u001b[39;00m is_fp_closed(\u001b[38;5;28mself\u001b[39m._fp) \u001b[38;5;129;01mor\u001b[39;00m \u001b[38;5;28mlen\u001b[39m(\u001b[38;5;28mself\u001b[39m._decoded_buffer) > \u001b[32m0\u001b[39m:\n\u001b[32m-> \u001b[39m\u001b[32m1091\u001b[39m         data = \u001b[38;5;28;43mself\u001b[39;49m\u001b[43m.\u001b[49m\u001b[43mread\u001b[49m\u001b[43m(\u001b[49m\u001b[43mamt\u001b[49m\u001b[43m=\u001b[49m\u001b[43mamt\u001b[49m\u001b[43m,\u001b[49m\u001b[43m \u001b[49m\u001b[43mdecode_content\u001b[49m\u001b[43m=\u001b[49m\u001b[43mdecode_content\u001b[49m\u001b[43m)\u001b[49m\n\u001b[32m   1093\u001b[39m         \u001b[38;5;28;01mif\u001b[39;00m data:\n\u001b[32m   1094\u001b[39m             \u001b[38;5;28;01myield\u001b[39;00m data\n",
      "\u001b[36mFile \u001b[39m\u001b[32mc:\\Users\\yatz_\\OneDrive - Instituto Politecnico Nacional\\Proyectos\\ecg_eeg_signals_AI\\venv\\Lib\\site-packages\\urllib3\\response.py:980\u001b[39m, in \u001b[36mHTTPResponse.read\u001b[39m\u001b[34m(self, amt, decode_content, cache_content)\u001b[39m\n\u001b[32m    977\u001b[39m     \u001b[38;5;28;01mif\u001b[39;00m \u001b[38;5;28mlen\u001b[39m(\u001b[38;5;28mself\u001b[39m._decoded_buffer) >= amt:\n\u001b[32m    978\u001b[39m         \u001b[38;5;28;01mreturn\u001b[39;00m \u001b[38;5;28mself\u001b[39m._decoded_buffer.get(amt)\n\u001b[32m--> \u001b[39m\u001b[32m980\u001b[39m data = \u001b[38;5;28;43mself\u001b[39;49m\u001b[43m.\u001b[49m\u001b[43m_raw_read\u001b[49m\u001b[43m(\u001b[49m\u001b[43mamt\u001b[49m\u001b[43m)\u001b[49m\n\u001b[32m    982\u001b[39m flush_decoder = amt \u001b[38;5;129;01mis\u001b[39;00m \u001b[38;5;28;01mNone\u001b[39;00m \u001b[38;5;129;01mor\u001b[39;00m (amt != \u001b[32m0\u001b[39m \u001b[38;5;129;01mand\u001b[39;00m \u001b[38;5;129;01mnot\u001b[39;00m data)\n\u001b[32m    984\u001b[39m \u001b[38;5;28;01mif\u001b[39;00m \u001b[38;5;129;01mnot\u001b[39;00m data \u001b[38;5;129;01mand\u001b[39;00m \u001b[38;5;28mlen\u001b[39m(\u001b[38;5;28mself\u001b[39m._decoded_buffer) == \u001b[32m0\u001b[39m:\n",
      "\u001b[36mFile \u001b[39m\u001b[32mc:\\Users\\yatz_\\OneDrive - Instituto Politecnico Nacional\\Proyectos\\ecg_eeg_signals_AI\\venv\\Lib\\site-packages\\urllib3\\response.py:904\u001b[39m, in \u001b[36mHTTPResponse._raw_read\u001b[39m\u001b[34m(self, amt, read1)\u001b[39m\n\u001b[32m    901\u001b[39m fp_closed = \u001b[38;5;28mgetattr\u001b[39m(\u001b[38;5;28mself\u001b[39m._fp, \u001b[33m\"\u001b[39m\u001b[33mclosed\u001b[39m\u001b[33m\"\u001b[39m, \u001b[38;5;28;01mFalse\u001b[39;00m)\n\u001b[32m    903\u001b[39m \u001b[38;5;28;01mwith\u001b[39;00m \u001b[38;5;28mself\u001b[39m._error_catcher():\n\u001b[32m--> \u001b[39m\u001b[32m904\u001b[39m     data = \u001b[38;5;28;43mself\u001b[39;49m\u001b[43m.\u001b[49m\u001b[43m_fp_read\u001b[49m\u001b[43m(\u001b[49m\u001b[43mamt\u001b[49m\u001b[43m,\u001b[49m\u001b[43m \u001b[49m\u001b[43mread1\u001b[49m\u001b[43m=\u001b[49m\u001b[43mread1\u001b[49m\u001b[43m)\u001b[49m \u001b[38;5;28;01mif\u001b[39;00m \u001b[38;5;129;01mnot\u001b[39;00m fp_closed \u001b[38;5;28;01melse\u001b[39;00m \u001b[33mb\u001b[39m\u001b[33m\"\u001b[39m\u001b[33m\"\u001b[39m\n\u001b[32m    905\u001b[39m     \u001b[38;5;28;01mif\u001b[39;00m amt \u001b[38;5;129;01mis\u001b[39;00m \u001b[38;5;129;01mnot\u001b[39;00m \u001b[38;5;28;01mNone\u001b[39;00m \u001b[38;5;129;01mand\u001b[39;00m amt != \u001b[32m0\u001b[39m \u001b[38;5;129;01mand\u001b[39;00m \u001b[38;5;129;01mnot\u001b[39;00m data:\n\u001b[32m    906\u001b[39m         \u001b[38;5;66;03m# Platform-specific: Buggy versions of Python.\u001b[39;00m\n\u001b[32m    907\u001b[39m         \u001b[38;5;66;03m# Close the connection when no data is returned\u001b[39;00m\n\u001b[32m   (...)\u001b[39m\u001b[32m    912\u001b[39m         \u001b[38;5;66;03m# not properly close the connection in all cases. There is\u001b[39;00m\n\u001b[32m    913\u001b[39m         \u001b[38;5;66;03m# no harm in redundantly calling close.\u001b[39;00m\n\u001b[32m    914\u001b[39m         \u001b[38;5;28mself\u001b[39m._fp.close()\n",
      "\u001b[36mFile \u001b[39m\u001b[32mc:\\Users\\yatz_\\OneDrive - Instituto Politecnico Nacional\\Proyectos\\ecg_eeg_signals_AI\\venv\\Lib\\site-packages\\urllib3\\response.py:887\u001b[39m, in \u001b[36mHTTPResponse._fp_read\u001b[39m\u001b[34m(self, amt, read1)\u001b[39m\n\u001b[32m    884\u001b[39m     \u001b[38;5;28;01mreturn\u001b[39;00m \u001b[38;5;28mself\u001b[39m._fp.read1(amt) \u001b[38;5;28;01mif\u001b[39;00m amt \u001b[38;5;129;01mis\u001b[39;00m \u001b[38;5;129;01mnot\u001b[39;00m \u001b[38;5;28;01mNone\u001b[39;00m \u001b[38;5;28;01melse\u001b[39;00m \u001b[38;5;28mself\u001b[39m._fp.read1()\n\u001b[32m    885\u001b[39m \u001b[38;5;28;01melse\u001b[39;00m:\n\u001b[32m    886\u001b[39m     \u001b[38;5;66;03m# StringIO doesn't like amt=None\u001b[39;00m\n\u001b[32m--> \u001b[39m\u001b[32m887\u001b[39m     \u001b[38;5;28;01mreturn\u001b[39;00m \u001b[38;5;28;43mself\u001b[39;49m\u001b[43m.\u001b[49m\u001b[43m_fp\u001b[49m\u001b[43m.\u001b[49m\u001b[43mread\u001b[49m\u001b[43m(\u001b[49m\u001b[43mamt\u001b[49m\u001b[43m)\u001b[49m \u001b[38;5;28;01mif\u001b[39;00m amt \u001b[38;5;129;01mis\u001b[39;00m \u001b[38;5;129;01mnot\u001b[39;00m \u001b[38;5;28;01mNone\u001b[39;00m \u001b[38;5;28;01melse\u001b[39;00m \u001b[38;5;28mself\u001b[39m._fp.read()\n",
      "\u001b[36mFile \u001b[39m\u001b[32m~\\AppData\\Local\\Programs\\Python\\Python312\\Lib\\http\\client.py:472\u001b[39m, in \u001b[36mHTTPResponse.read\u001b[39m\u001b[34m(self, amt)\u001b[39m\n\u001b[32m    469\u001b[39m \u001b[38;5;28;01mif\u001b[39;00m \u001b[38;5;28mself\u001b[39m.length \u001b[38;5;129;01mis\u001b[39;00m \u001b[38;5;129;01mnot\u001b[39;00m \u001b[38;5;28;01mNone\u001b[39;00m \u001b[38;5;129;01mand\u001b[39;00m amt > \u001b[38;5;28mself\u001b[39m.length:\n\u001b[32m    470\u001b[39m     \u001b[38;5;66;03m# clip the read to the \"end of response\"\u001b[39;00m\n\u001b[32m    471\u001b[39m     amt = \u001b[38;5;28mself\u001b[39m.length\n\u001b[32m--> \u001b[39m\u001b[32m472\u001b[39m s = \u001b[38;5;28;43mself\u001b[39;49m\u001b[43m.\u001b[49m\u001b[43mfp\u001b[49m\u001b[43m.\u001b[49m\u001b[43mread\u001b[49m\u001b[43m(\u001b[49m\u001b[43mamt\u001b[49m\u001b[43m)\u001b[49m\n\u001b[32m    473\u001b[39m \u001b[38;5;28;01mif\u001b[39;00m \u001b[38;5;129;01mnot\u001b[39;00m s \u001b[38;5;129;01mand\u001b[39;00m amt:\n\u001b[32m    474\u001b[39m     \u001b[38;5;66;03m# Ideally, we would raise IncompleteRead if the content-length\u001b[39;00m\n\u001b[32m    475\u001b[39m     \u001b[38;5;66;03m# wasn't satisfied, but it might break compatibility.\u001b[39;00m\n\u001b[32m    476\u001b[39m     \u001b[38;5;28mself\u001b[39m._close_conn()\n",
      "\u001b[36mFile \u001b[39m\u001b[32m~\\AppData\\Local\\Programs\\Python\\Python312\\Lib\\socket.py:707\u001b[39m, in \u001b[36mSocketIO.readinto\u001b[39m\u001b[34m(self, b)\u001b[39m\n\u001b[32m    705\u001b[39m \u001b[38;5;28;01mwhile\u001b[39;00m \u001b[38;5;28;01mTrue\u001b[39;00m:\n\u001b[32m    706\u001b[39m     \u001b[38;5;28;01mtry\u001b[39;00m:\n\u001b[32m--> \u001b[39m\u001b[32m707\u001b[39m         \u001b[38;5;28;01mreturn\u001b[39;00m \u001b[38;5;28;43mself\u001b[39;49m\u001b[43m.\u001b[49m\u001b[43m_sock\u001b[49m\u001b[43m.\u001b[49m\u001b[43mrecv_into\u001b[49m\u001b[43m(\u001b[49m\u001b[43mb\u001b[49m\u001b[43m)\u001b[49m\n\u001b[32m    708\u001b[39m     \u001b[38;5;28;01mexcept\u001b[39;00m timeout:\n\u001b[32m    709\u001b[39m         \u001b[38;5;28mself\u001b[39m._timeout_occurred = \u001b[38;5;28;01mTrue\u001b[39;00m\n",
      "\u001b[36mFile \u001b[39m\u001b[32m~\\AppData\\Local\\Programs\\Python\\Python312\\Lib\\ssl.py:1249\u001b[39m, in \u001b[36mSSLSocket.recv_into\u001b[39m\u001b[34m(self, buffer, nbytes, flags)\u001b[39m\n\u001b[32m   1245\u001b[39m     \u001b[38;5;28;01mif\u001b[39;00m flags != \u001b[32m0\u001b[39m:\n\u001b[32m   1246\u001b[39m         \u001b[38;5;28;01mraise\u001b[39;00m \u001b[38;5;167;01mValueError\u001b[39;00m(\n\u001b[32m   1247\u001b[39m           \u001b[33m\"\u001b[39m\u001b[33mnon-zero flags not allowed in calls to recv_into() on \u001b[39m\u001b[38;5;132;01m%s\u001b[39;00m\u001b[33m\"\u001b[39m %\n\u001b[32m   1248\u001b[39m           \u001b[38;5;28mself\u001b[39m.\u001b[34m__class__\u001b[39m)\n\u001b[32m-> \u001b[39m\u001b[32m1249\u001b[39m     \u001b[38;5;28;01mreturn\u001b[39;00m \u001b[38;5;28;43mself\u001b[39;49m\u001b[43m.\u001b[49m\u001b[43mread\u001b[49m\u001b[43m(\u001b[49m\u001b[43mnbytes\u001b[49m\u001b[43m,\u001b[49m\u001b[43m \u001b[49m\u001b[43mbuffer\u001b[49m\u001b[43m)\u001b[49m\n\u001b[32m   1250\u001b[39m \u001b[38;5;28;01melse\u001b[39;00m:\n\u001b[32m   1251\u001b[39m     \u001b[38;5;28;01mreturn\u001b[39;00m \u001b[38;5;28msuper\u001b[39m().recv_into(buffer, nbytes, flags)\n",
      "\u001b[36mFile \u001b[39m\u001b[32m~\\AppData\\Local\\Programs\\Python\\Python312\\Lib\\ssl.py:1105\u001b[39m, in \u001b[36mSSLSocket.read\u001b[39m\u001b[34m(self, len, buffer)\u001b[39m\n\u001b[32m   1103\u001b[39m \u001b[38;5;28;01mtry\u001b[39;00m:\n\u001b[32m   1104\u001b[39m     \u001b[38;5;28;01mif\u001b[39;00m buffer \u001b[38;5;129;01mis\u001b[39;00m \u001b[38;5;129;01mnot\u001b[39;00m \u001b[38;5;28;01mNone\u001b[39;00m:\n\u001b[32m-> \u001b[39m\u001b[32m1105\u001b[39m         \u001b[38;5;28;01mreturn\u001b[39;00m \u001b[38;5;28;43mself\u001b[39;49m\u001b[43m.\u001b[49m\u001b[43m_sslobj\u001b[49m\u001b[43m.\u001b[49m\u001b[43mread\u001b[49m\u001b[43m(\u001b[49m\u001b[38;5;28;43mlen\u001b[39;49m\u001b[43m,\u001b[49m\u001b[43m \u001b[49m\u001b[43mbuffer\u001b[49m\u001b[43m)\u001b[49m\n\u001b[32m   1106\u001b[39m     \u001b[38;5;28;01melse\u001b[39;00m:\n\u001b[32m   1107\u001b[39m         \u001b[38;5;28;01mreturn\u001b[39;00m \u001b[38;5;28mself\u001b[39m._sslobj.read(\u001b[38;5;28mlen\u001b[39m)\n",
      "\u001b[31mKeyboardInterrupt\u001b[39m: "
     ]
    }
   ],
   "source": [
    "for rec_name in records[3:]:\n",
    "    filter_and_save(rec_name)"
   ]
  }
 ],
 "metadata": {
  "kernelspec": {
   "display_name": "venv",
   "language": "python",
   "name": "python3"
  },
  "language_info": {
   "codemirror_mode": {
    "name": "ipython",
    "version": 3
   },
   "file_extension": ".py",
   "mimetype": "text/x-python",
   "name": "python",
   "nbconvert_exporter": "python",
   "pygments_lexer": "ipython3",
   "version": "3.12.0"
  }
 },
 "nbformat": 4,
 "nbformat_minor": 5
}
