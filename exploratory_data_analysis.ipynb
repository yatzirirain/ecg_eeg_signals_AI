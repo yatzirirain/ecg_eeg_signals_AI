{
 "cells": [
  {
   "cell_type": "markdown",
   "id": "0f24c24e",
   "metadata": {},
   "source": [
    "0284_001_004_EEG - contains the first segment of the EEG signal data, starting at 4 hours, 7 minutes, and 23 seconds after cardiac arrest and ending at 4 hours, 59 minutes, and 59 seconds after cardiac arrest, for patient 0284 "
   ]
  },
  {
   "cell_type": "code",
   "execution_count": 1,
   "id": "a3d52648",
   "metadata": {},
   "outputs": [],
   "source": [
    "import wfdb\n",
    "import numpy as np\n",
    "import scipy.signal as sig\n",
    "import matplotlib.pyplot as plt"
   ]
  },
  {
   "cell_type": "code",
   "execution_count": 3,
   "id": "68448089",
   "metadata": {},
   "outputs": [
    {
     "name": "stdout",
     "output_type": "stream",
     "text": [
      "Frecuencia de muestreo: 500 Hz\n",
      "Nº de muestras totales: 1578500\n",
      "Canales disponibles   : ['Fp1', 'Fp2', 'F3', 'F4', 'C3', 'C4', 'P3', 'P4', 'O1', 'O2', 'F7', 'F8', 'T3', 'T4', 'T5', 'T6', 'Fz', 'Cz', 'Pz']\n"
     ]
    }
   ],
   "source": [
    "# 1) Cargar el registro desde PhysioNet \n",
    "db_dir      = \"i-care/2.0/training/0284\"     \n",
    "record_name = \"0284_001_004_EEG\"\n",
    "rec         = wfdb.rdrecord(record_name, pn_dir=db_dir)\n",
    "\n",
    "fs   = rec.fs                  # frecuencia de muestreo \n",
    "ecg  = rec.p_signal[:, 0]      # primer canal\n",
    "t    = np.arange(len(ecg)) / fs\n",
    "\n",
    "print(f\"Frecuencia de muestreo: {fs} Hz\")\n",
    "print(f\"Nº de muestras totales: {len(ecg)}\")\n",
    "print(f\"Canales disponibles   : {rec.sig_name}\")"
   ]
  },
  {
   "cell_type": "code",
   "execution_count": 6,
   "id": "68d96661",
   "metadata": {},
   "outputs": [
    {
     "name": "stdout",
     "output_type": "stream",
     "text": [
      "['Utility frequency: 50', 'Start time: 4:07:23', 'End time: 4:59:59']\n"
     ]
    }
   ],
   "source": [
    "print(rec.comments)"
   ]
  },
  {
   "cell_type": "code",
   "execution_count": 5,
   "id": "4a9ae58a",
   "metadata": {},
   "outputs": [
    {
     "name": "stdout",
     "output_type": "stream",
     "text": [
      "              Field                                              Value\n",
      "0       record_name                                   0284_001_004_EEG\n",
      "1             n_sig                                                 19\n",
      "2                fs                                                500\n",
      "3      counter_freq                                               None\n",
      "4      base_counter                                               None\n",
      "5           sig_len                                            1578500\n",
      "6         base_time                                               None\n",
      "7         base_date                                               None\n",
      "8          comments  [Utility frequency: 50, Start time: 4:07:23, E...\n",
      "9          sig_name  [Fp1, Fp2, F3, F4, C3, C4, P3, P4, O1, O2, F7,...\n",
      "10         p_signal  [[16.685189390821346, 137.1988509101296, 38.36...\n",
      "11         d_signal                                               None\n",
      "12       e_p_signal                                               None\n",
      "13       e_d_signal                                               None\n",
      "14        file_name  [0284_001_004_EEG.mat, 0284_001_004_EEG.mat, 0...\n",
      "15              fmt  [16, 16, 16, 16, 16, 16, 16, 16, 16, 16, 16, 1...\n",
      "16  samps_per_frame  [1, 1, 1, 1, 1, 1, 1, 1, 1, 1, 1, 1, 1, 1, 1, ...\n",
      "17             skew  [None, None, None, None, None, None, None, Non...\n",
      "18      byte_offset  [24, 24, 24, 24, 24, 24, 24, 24, 24, 24, 24, 2...\n",
      "19         adc_gain  [17.980017665549088, 17.747962055418498, 15.71...\n",
      "20         baseline  [23877, 23144, 16747, 24279, -3375, 2589, -891...\n",
      "21            units  [mV, mV, mV, mV, mV, mV, mV, mV, mV, mV, mV, m...\n",
      "22          adc_res  [16, 16, 16, 16, 16, 16, 16, 16, 16, 16, 16, 1...\n",
      "23         adc_zero  [23877, 23144, 16747, 24279, -3375, 2589, -891...\n",
      "24       init_value  [24177, 25579, 17350, -2188, -16809, 15532, -7...\n",
      "25         checksum  [37933865398, 36777032480, 26625693997, 229796...\n",
      "26       block_size  [0, 0, 0, 0, 0, 0, 0, 0, 0, 0, 0, 0, 0, 0, 0, ...\n"
     ]
    }
   ],
   "source": [
    "import pandas as pd\n",
    "\n",
    "# All metadata fields\n",
    "metadata = vars(rec)\n",
    "df = pd.DataFrame(\n",
    "    list(metadata.items()),\n",
    "    columns=['Field', 'Value']\n",
    ")\n",
    "\n",
    "print(df)"
   ]
  }
 ],
 "metadata": {
  "kernelspec": {
   "display_name": "venv",
   "language": "python",
   "name": "python3"
  },
  "language_info": {
   "codemirror_mode": {
    "name": "ipython",
    "version": 3
   },
   "file_extension": ".py",
   "mimetype": "text/x-python",
   "name": "python",
   "nbconvert_exporter": "python",
   "pygments_lexer": "ipython3",
   "version": "3.12.0"
  }
 },
 "nbformat": 4,
 "nbformat_minor": 5
}
