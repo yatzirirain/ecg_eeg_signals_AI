{
 "cells": [
  {
   "cell_type": "code",
   "execution_count": 4,
   "id": "e42509c5",
   "metadata": {},
   "outputs": [],
   "source": [
    "import wfdb \n",
    "import numpy as np \n",
    "import pandas as pd \n",
    "import scipy.signal as sig \n",
    "import matplotlib.pyplot as plt"
   ]
  },
  {
   "cell_type": "code",
   "execution_count": 5,
   "id": "8a5777f2",
   "metadata": {},
   "outputs": [],
   "source": [
    "records_0427 = [\"0427_001_016_ECG\",\"0427_002_017_ECG\",\"0427_003_018_ECG\",\"0427_004_019_ECG\",\"0427_005_020_ECG\",\"0427_006_020_ECG\",\"0427_007_021_ECG\",\"0427_008_022_ECG\",\"0427_009_023_ECG\",\"0427_010_024_ECG\",\"0427_011_024_ECG\",\"0427_012_025_ECG\",\"0427_013_026_ECG\",\"0427_014_027_ECG\",\"0427_015_028_ECG\",\"0427_016_028_ECG\",\"0427_017_029_ECG\",\"0427_018_030_ECG\",\"0427_019_031_ECG\",\"0427_020_032_ECG\",\"0427_021_032_ECG\",\"0427_022_033_ECG\",\"0427_023_034_ECG\",\"0427_024_035_ECG\",\"0427_025_036_ECG\",\"0427_026_036_ECG\",\"0427_027_037_ECG\",\"0427_028_038_ECG\",\"0427_029_039_ECG\",\"0427_030_040_ECG\",\"0427_031_040_ECG\",\"0427_032_041_ECG\",\"0427_033_042_ECG\",\"0427_034_043_ECG\",\"0427_035_044_ECG\",\"0427_036_044_ECG\",\"0427_037_045_ECG\",\"0427_038_046_ECG\",\"0427_039_047_ECG\",\"0427_040_048_ECG\",\"0427_041_048_ECG\",\"0427_042_049_ECG\",\"0427_043_050_ECG\",\"0427_044_051_ECG\",\"0427_045_052_ECG\",\"0427_046_052_ECG\",\"0427_047_053_ECG\",\"0427_048_054_ECG\",\"0427_049_055_ECG\",\"0427_050_056_ECG\",\"0427_051_056_ECG\",\"0427_052_057_ECG\",\"0427_053_058_ECG\",\"0427_054_059_ECG\",\"0427_055_060_ECG\",\"0427_056_060_ECG\",\"0427_057_061_ECG\",\"0427_058_062_ECG\",\"0427_059_063_ECG\",\"0427_060_064_ECG\",\"0427_061_064_ECG\",\"0427_062_065_ECG\",\"0427_063_066_ECG\",\"0427_064_067_ECG\",\"0427_065_068_ECG\",\"0427_066_068_ECG\",\"0427_067_069_ECG\",\"0427_068_070_ECG\",\"0427_069_071_ECG\",\"0427_070_072_ECG\",\"0427_071_072_ECG\",\"0427_072_073_ECG\",\"0427_073_074_ECG\",\"0427_074_075_ECG\",\"0427_075_076_ECG\",\"0427_076_076_ECG\",\"0427_077_077_ECG\",\"0427_078_078_ECG\",\"0427_079_079_ECG\",\"0427_080_080_ECG\",\"0427_081_080_ECG\",\"0427_082_081_ECG\",\"0427_083_082_ECG\",\"0427_084_083_ECG\",\"0427_085_084_ECG\",\"0427_086_084_ECG\",\"0427_087_085_ECG\",\"0427_088_086_ECG\",\"0427_089_087_ECG\",\"0427_090_088_ECG\",\"0427_091_088_ECG\"]"
   ]
  },
  {
   "cell_type": "code",
   "execution_count": 10,
   "id": "ffcd2934",
   "metadata": {},
   "outputs": [],
   "source": [
    "DB_DIR      = \"i-care/2.0/training/0427\"\n",
    "\n",
    "metadata = []\n",
    "\n",
    "for record in records_0427:\n",
    "    rec  = wfdb.rdrecord(record, pn_dir=DB_DIR)\n",
    "    n_samples = rec.sig_len\n",
    "    fs = rec.fs\n",
    "    channels = rec.sig_name\n",
    "    duration = n_samples / fs\n",
    "    start_time = rec.comments[1][-8:]\n",
    "    end_time = rec.comments[2][-8:]\n",
    "    \n",
    "\n",
    "    metadata.append({\n",
    "        \"record\": record,\n",
    "        \"n_samples\": n_samples,\n",
    "        \"fs_(Hz)\": fs,\n",
    "        \"duration_(s)\": duration,\n",
    "        \"channels\": channels,\n",
    "        \"start_time\": start_time,\n",
    "        \"end_time\": end_time\n",
    "    })\n",
    "\n",
    "df = pd.DataFrame(metadata)"
   ]
  },
  {
   "cell_type": "code",
   "execution_count": 11,
   "id": "02703eaa",
   "metadata": {},
   "outputs": [],
   "source": [
    "df['duration_minus_10min_s'] = (df['duration_(s)'] - 600).clip(lower=0)"
   ]
  },
  {
   "cell_type": "code",
   "execution_count": 12,
   "id": "94e9a613",
   "metadata": {},
   "outputs": [
    {
     "name": "stdout",
     "output_type": "stream",
     "text": [
      "             record  n_samples  fs_(Hz)  duration_(s) channels start_time  \\\n",
      "0  0427_001_016_ECG    1489500      500      2979.000    [ECG]   16:10:21   \n",
      "1  0427_002_017_ECG    1800000      500      3600.000    [ECG]   17:00:00   \n",
      "2  0427_003_018_ECG    1800000      500      3600.000    [ECG]   18:00:00   \n",
      "3  0427_004_019_ECG    1800000      500      3600.000    [ECG]   19:00:00   \n",
      "4  0427_005_020_ECG     311000      500       622.000    [ECG]   20:00:00   \n",
      "5  0427_006_020_ECG    1488000      500      2976.000    [ECG]   20:10:24   \n",
      "6  0427_007_021_ECG    1800000      500      3600.000    [ECG]   21:00:00   \n",
      "7  0427_008_022_ECG    1800000      500      3600.000    [ECG]   22:00:00   \n",
      "8  0427_009_023_ECG    1800000      500      3600.000    [ECG]   23:00:00   \n",
      "9  0427_010_024_ECG     311001      500       622.002    [ECG]   24:00:00   \n",
      "\n",
      "   end_time  duration_minus_10min_s  \n",
      "0  16:59:59                2379.000  \n",
      "1  17:59:59                3000.000  \n",
      "2  18:59:59                3000.000  \n",
      "3  19:59:59                3000.000  \n",
      "4  20:10:21                  22.000  \n",
      "5  20:59:59                2376.000  \n",
      "6  21:59:59                3000.000  \n",
      "7  22:59:59                3000.000  \n",
      "8  23:59:59                3000.000  \n",
      "9  24:10:22                  22.002  \n"
     ]
    }
   ],
   "source": [
    "print(df.head(10))"
   ]
  },
  {
   "cell_type": "code",
   "execution_count": 13,
   "id": "9eeb15c0",
   "metadata": {},
   "outputs": [],
   "source": [
    "df.to_csv(\"0427_metadata.csv\", index=False)"
   ]
  }
 ],
 "metadata": {
  "kernelspec": {
   "display_name": "venv",
   "language": "python",
   "name": "python3"
  },
  "language_info": {
   "codemirror_mode": {
    "name": "ipython",
    "version": 3
   },
   "file_extension": ".py",
   "mimetype": "text/x-python",
   "name": "python",
   "nbconvert_exporter": "python",
   "pygments_lexer": "ipython3",
   "version": "3.9.6"
  }
 },
 "nbformat": 4,
 "nbformat_minor": 5
}
